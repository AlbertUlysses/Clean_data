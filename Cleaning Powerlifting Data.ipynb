{
 "cells": [
  {
   "cell_type": "markdown",
   "metadata": {},
   "source": [
    "**Introduction:**\n",
    "\n",
    "I have prepared the Powerlifting dataset from Kaggle for a future analysis. Here is the link: https://www.kaggle.com/open-powerlifting/powerlifting-database\n",
    "\n",
    "I would like to note that this is only an outdated snapshot of the real database.  https://www.openpowerlifting.org/  is the source for this dataset."
   ]
  },
  {
   "cell_type": "markdown",
   "metadata": {},
   "source": [
    "**IMPORTS**\n",
    "\n",
    "* Pandas for manipulating the Data Frame\n",
    "* Numpy for computing data\n",
    "* os to import data set\n",
    "* matplotlib.pyplot and seaborn for plotting data\n",
    "* sklearn for clustering data"
   ]
  },
  {
   "cell_type": "code",
   "execution_count": 1,
   "metadata": {},
   "outputs": [],
   "source": [
    "#Load packages\n",
    "import os\n",
    "import numpy as np\n",
    "import pandas as pd \n",
    "import seaborn as sns\n",
    "import matplotlib.pyplot as plt\n",
    "from sklearn import preprocessing\n",
    "from sklearn.cluster import KMeans"
   ]
  },
  {
   "cell_type": "code",
   "execution_count": 2,
   "metadata": {},
   "outputs": [
    {
     "name": "stdout",
     "output_type": "stream",
     "text": [
      "<class 'pandas.core.frame.DataFrame'>\n",
      "Int64Index: 384012 entries, 0 to 386413\n",
      "Data columns (total 11 columns):\n",
      "MeetID            384012 non-null int64\n",
      "Name              384012 non-null object\n",
      "Sex               384012 non-null object\n",
      "Equipment         384012 non-null object\n",
      "BodyweightKg      384012 non-null float64\n",
      "WeightClassKg     381602 non-null object\n",
      "BestSquatKg       384012 non-null float64\n",
      "BestBenchKg       384012 non-null float64\n",
      "BestDeadliftKg    384012 non-null float64\n",
      "TotalKg           384012 non-null float64\n",
      "Wilks             362194 non-null float64\n",
      "dtypes: float64(6), int64(1), object(4)\n",
      "memory usage: 35.2+ MB\n"
     ]
    }
   ],
   "source": [
    "#Read in and clean the data \n",
    "powerlift = pd.read_csv('openpowerlifting.csv')\n",
    "\n",
    "select_columns = [\n",
    "       'MeetID', 'Name', 'Sex', 'Equipment',\n",
    "       'BodyweightKg', 'WeightClassKg', 'BestSquatKg',\n",
    "       'BestBenchKg',  'BestDeadliftKg',\n",
    "       'TotalKg', 'Wilks']\n",
    "\n",
    "powerlift = powerlift[select_columns]\n",
    "\n",
    "powerlift[['BestSquatKg', 'BestBenchKg', 'BestDeadliftKg']] = \\\n",
    "            powerlift[['BestSquatKg', 'BestBenchKg', 'BestDeadliftKg']].fillna(0)\n",
    "\n",
    "powerlift['TotalKg'] = powerlift['BestSquatKg'] + \\\n",
    "                        powerlift['BestBenchKg'] + powerlift['BestDeadliftKg']\n",
    "\n",
    "#remove nan in BodyweightKg row less than 1% is affected by this\n",
    "powerlift = powerlift.dropna(subset=['BodyweightKg'])\n",
    "\n",
    "powerlift.info()"
   ]
  },
  {
   "cell_type": "markdown",
   "metadata": {},
   "source": [
    "**WILKS SCORE:**\n",
    "\n",
    "Some of the values in the \"Wilks\" column are Null values, but There is enough information for us to fill these values."
   ]
  },
  {
   "cell_type": "code",
   "execution_count": 3,
   "metadata": {},
   "outputs": [
    {
     "name": "stdout",
     "output_type": "stream",
     "text": [
      "<class 'pandas.core.frame.DataFrame'>\n",
      "Int64Index: 384012 entries, 0 to 386413\n",
      "Data columns (total 11 columns):\n",
      "MeetID            384012 non-null int64\n",
      "Name              384012 non-null object\n",
      "Sex               384012 non-null object\n",
      "Equipment         384012 non-null object\n",
      "BodyweightKg      384012 non-null float64\n",
      "WeightClassKg     381602 non-null object\n",
      "BestSquatKg       384012 non-null float64\n",
      "BestBenchKg       384012 non-null float64\n",
      "BestDeadliftKg    384012 non-null float64\n",
      "TotalKg           384012 non-null float64\n",
      "Wilks             384012 non-null float64\n",
      "dtypes: float64(6), int64(1), object(4)\n",
      "memory usage: 35.2+ MB\n"
     ]
    }
   ],
   "source": [
    "#functions for wilks score\n",
    "def male_wilks(weight, totalkg):\n",
    "    coeff = 500 / (-216.0475144 + \n",
    "                   (16.2606339 * weight) + \n",
    "                   (-0.002388645 * weight**2) + \n",
    "                   (-0.00113732 * weight**3) + \n",
    "                   (7.01863E-06 * weight**4) + \n",
    "                   (-1.291E-08 * weight**5))\n",
    "    wilks = round(coeff * totalkg, 2)\n",
    "    return wilks\n",
    "\n",
    "\n",
    "def female_wilks(weight, totalkg):\n",
    "    coeff = 500 / (594.31747775582 +\n",
    "                  (-27.23842536447 * weight) +\n",
    "                  (0.82112226871 * weight**2) +\n",
    "                  (-0.00930733913 * weight**3) +\n",
    "                  (4.731582E-05 * weight**4) +\n",
    "                  (-9.054E-08 * weight**5))\n",
    "    wilks = round(coeff * totalkg, 2)\n",
    "    return wilks\n",
    "\n",
    "\n",
    "#recalculate wilks column to fill in Nan\n",
    "male = (powerlift['Sex'] != 'F')\n",
    "powerlift_valid = powerlift[male]\n",
    "powerlift.loc[male, 'Wilks'] = male_wilks(powerlift_valid['BodyweightKg'], \n",
    "                                          powerlift_valid['TotalKg'])\n",
    "\n",
    "female = (powerlift['Sex'] != 'M')\n",
    "powerlift_valid = powerlift[female]\n",
    "powerlift.loc[female, 'Wilks'] = male_wilks(powerlift_valid['BodyweightKg'], \n",
    "                                          powerlift_valid['TotalKg'])\n",
    "\n",
    "powerlift.info()\n"
   ]
  },
  {
   "cell_type": "markdown",
   "metadata": {},
   "source": [
    "**Simplifying the 'WeightClassKg' columns:**\n",
    "\n",
    "\n",
    "To simplify the categorical data in 'WeightClassKg' I aggregated it. I now have a new column with three distinct options that reflect the federation type. There are two types of federations that are common to competing powerlifters, IPF and non-IPF. Anything that falls outside of these I considered as an 'Abnormal Federation'. Here's a link that dives into the federation types.\n",
    "https://www.powerliftingtowin.com/how-to-pick-your-weight-class/\n",
    "\n",
    "At the end of the cell you will see that I spent extra time to determine a 52kg competitor. 52kg is unique as it is an option in both IPF and non-IPF competitions."
   ]
  },
  {
   "cell_type": "code",
   "execution_count": 4,
   "metadata": {},
   "outputs": [
    {
     "name": "stdout",
     "output_type": "stream",
     "text": [
      "<class 'pandas.core.frame.DataFrame'>\n",
      "Int64Index: 361854 entries, 0 to 364169\n",
      "Data columns (total 12 columns):\n",
      "MeetID            361854 non-null int64\n",
      "Name              361854 non-null object\n",
      "Sex               361854 non-null object\n",
      "Equipment         361854 non-null object\n",
      "BodyweightKg      361854 non-null float64\n",
      "WeightClassKg     361854 non-null object\n",
      "BestSquatKg       361854 non-null float64\n",
      "BestBenchKg       361854 non-null float64\n",
      "BestDeadliftKg    361854 non-null float64\n",
      "TotalKg           361854 non-null float64\n",
      "Wilks             361854 non-null float64\n",
      "Federation        361854 non-null object\n",
      "dtypes: float64(6), int64(1), object(5)\n",
      "memory usage: 35.9+ MB\n"
     ]
    }
   ],
   "source": [
    "\n",
    "#remove duplicate rows\n",
    "powerlift = powerlift.drop_duplicates().reset_index(drop=True)\n",
    "\n",
    "#remove nan for WeightClassKg rows less than 1% is affected by this\n",
    "powerlift = powerlift.dropna(subset=['WeightClassKg'])\n",
    "\n",
    "#aggergate categorical variables WeightClass into federation\n",
    "IPF = 'IPF'\n",
    "Other_Feds = 'Not IPF'\n",
    "not_common ='Abnormal Federation'\n",
    "\n",
    "IPF_weightclass = ['47', '57', '59', '63', '66', '72', '74', '83', '84', '84+',\n",
    "                   '93', '105', '120', '120+']\n",
    "other_fed_weightclass = ['44', '48','56', '60', '67.5', '75', '82.5', '90', \n",
    "                         '90+', '100', '110', '125', '140', '140+']\n",
    "abnormal_weightclass = ['30', '34', '35', '39', '40', '43', '50', '53', '60+', \n",
    "                        '67.5', '67.5+', '70', '70+', '75+', '80', '83+', '84+', \n",
    "                        '90+', '95', '155', '100+', '110+', '117.5', '125',\n",
    "                        '125+', '145']\n",
    "\n",
    "powerlift.loc[powerlift['WeightClassKg'].isin(IPF_weightclass),\n",
    "             'Federation'] = IPF\n",
    "powerlift.loc[powerlift['WeightClassKg'].isin(other_fed_weightclass),\n",
    "             'Federation'] = Other_Feds\n",
    "powerlift.loc[powerlift['WeightClassKg'].isin(abnormal_weightclass),\n",
    "             'Federation'] = not_common\n",
    "\n",
    "\n",
    "#determine which federation 52kg belongs because IPF and Not IPF have this weightclass\n",
    "#creats a list of unique MeetID numbers for IPF and Not IPF\n",
    "\n",
    "IP_Fed = powerlift[powerlift['Federation'] == 'IPF']\n",
    "IP_Fed = IP_Fed['MeetID'].unique().tolist()\n",
    "\n",
    "NotIP_Fed = powerlift[powerlift['Federation'] == 'Not IPF']\n",
    "NotIP_Fed = NotIP_Fed['MeetID'].unique().tolist()\n",
    "NotIP_Fed.extend([531, 1263, 2074])\n",
    "\n",
    "powerlift.loc[powerlift['MeetID'].isin(IP_Fed),\n",
    "             'Federation'] = IPF\n",
    "powerlift.loc[powerlift['MeetID'].isin(NotIP_Fed),\n",
    "             'Federation'] = Other_Feds\n",
    "\n",
    "powerlift.info()\n"
   ]
  },
  {
   "cell_type": "markdown",
   "metadata": {},
   "source": [
    "**Simplifying numberic columns into quartiles:**\n",
    "I created some category columns using quartiles for the numeric values. I did this to give an intuitive understanding to the numbers. "
   ]
  },
  {
   "cell_type": "code",
   "execution_count": 5,
   "metadata": {},
   "outputs": [
    {
     "name": "stdout",
     "output_type": "stream",
     "text": [
      "<class 'pandas.core.frame.DataFrame'>\n",
      "Int64Index: 361854 entries, 0 to 364169\n",
      "Data columns (total 17 columns):\n",
      "MeetID             361854 non-null int64\n",
      "Name               361854 non-null object\n",
      "Sex                361854 non-null object\n",
      "Equipment          361854 non-null object\n",
      "BodyweightKg       361854 non-null float64\n",
      "WeightClassKg      361854 non-null object\n",
      "BestSquatKg        361854 non-null float64\n",
      "BestBenchKg        361854 non-null float64\n",
      "BestDeadliftKg     361854 non-null float64\n",
      "TotalKg            361854 non-null float64\n",
      "Wilks              361854 non-null float64\n",
      "Federation         361854 non-null object\n",
      "Squat Weight       361854 non-null category\n",
      "Bench Weight       361854 non-null category\n",
      "Deadlift Weight    361854 non-null category\n",
      "Total Weight       361854 non-null category\n",
      "WILKS Level        361854 non-null category\n",
      "dtypes: category(5), float64(6), int64(1), object(5)\n",
      "memory usage: 37.6+ MB\n"
     ]
    }
   ],
   "source": [
    "#seperate categories into quartiles\n",
    "\n",
    "Squat_weight = ['Very Light Squat', 'Light Squat',\n",
    "               'Moderate Squat', 'Heavy Squat', \n",
    "                'Very Heavy Squat']\n",
    "\n",
    "powerlift['Squat Weight'] = pd.qcut(powerlift['BestSquatKg'], 5,\n",
    "                                   Squat_weight)\n",
    "\n",
    "Bench_weight = ['Very Light Bench', 'Light Bench',\n",
    "               'Moderate Bench', 'Heavy Bench',\n",
    "               'Very Heavy Bench']\n",
    "\n",
    "powerlift['Bench Weight'] = pd.qcut(powerlift['BestBenchKg'], 5, \n",
    "                                   Bench_weight)\n",
    "\n",
    "Deadlift_weight = ['Very Light DL', 'Light DL', \n",
    "                  'Moderate DL', 'Heavy DL',\n",
    "                  'Very Heavy DL']\n",
    "\n",
    "powerlift['Deadlift Weight'] = pd.qcut(powerlift['BestDeadliftKg'], 5,\n",
    "                                      Deadlift_weight)\n",
    "\n",
    "Total_weight = ['Very Light Total', 'Light Total', \n",
    "               'Moderate Total', 'Heavy Total', \n",
    "               'Very Heavy Total']\n",
    "\n",
    "powerlift['Total Weight'] = pd.qcut(powerlift['TotalKg'], 5, \n",
    "                                   Total_weight)\n",
    "\n",
    "WILKS = ['Very Low WILKS', 'Low WILKS', \n",
    "         'Moderate WILKS', 'Hight WILKS', \n",
    "         'Very Hight WILKS']\n",
    "\n",
    "powerlift['WILKS Level'] = pd.qcut(powerlift['Wilks'], 5, \n",
    "                                  WILKS)\n",
    "powerlift.info()"
   ]
  },
  {
   "cell_type": "markdown",
   "metadata": {},
   "source": [
    "**Clustering to create a new category:**\n",
    "\n",
    "In the next two cells I used clustering to create a new column that tells us how heavy a lifter is and how strong they are.\n",
    "I used a heat map to use visualization as a better way to view our clustering results."
   ]
  },
  {
   "cell_type": "code",
   "execution_count": null,
   "metadata": {},
   "outputs": [],
   "source": [
    "cluster_columns = ['BodyweightKg', 'BestSquatKg', 'BestBenchKg',\n",
    "                  'BestDeadliftKg', 'TotalKg', 'Wilks']\n",
    "\n",
    "scaler = preprocessing.MaxAbsScaler()\n",
    "\n",
    "\n",
    "powerlift_cluster = scaler.fit_transform(powerlift[cluster_columns])\n",
    "powerlift_cluster = pd.DataFrame(powerlift_cluster, \n",
    "                                columns=cluster_columns)\n",
    "\n",
    "#cluster function\n",
    "\n",
    "\n",
    "def kmeans_cluster(df, n_clusters=2):\n",
    "    model = KMeans(n_clusters=n_clusters, random_state=1)\n",
    "    clusters = model.fit_predict(df)\n",
    "    cluster_results = df.copy()\n",
    "    cluster_results['Cluster'] = clusters\n",
    "    return cluster_results\n",
    "\n",
    "#summarizes clusters\n",
    "\n",
    "\n",
    "def summarize_clustering(results):\n",
    "    cluster_size = results.groupby(['Cluster']).size().reset_index()\n",
    "    cluster_means = results.groupby(['Cluster'],\n",
    "                                   as_index=False).mean()\n",
    "    cluster_summary = pd.merge(cluster_size, \n",
    "                              cluster_means, on='Cluster')\n",
    "    return cluster_summary\n",
    "\n",
    "\n",
    "cluster_results = kmeans_cluster(powerlift_cluster, 5)\n",
    "cluster_summary = summarize_clustering(cluster_results)\n",
    "\n",
    "sns.heatmap(cluster_summary[cluster_columns].transpose(),\n",
    "           annot=True)\n",
    "plt.show()"
   ]
  },
  {
   "cell_type": "code",
   "execution_count": null,
   "metadata": {},
   "outputs": [],
   "source": [
    "pd.options.mode.chained_assignment = None  #to remove warnings\n",
    "\n",
    "cluster_results['Cluster Name'] = ''\n",
    "cluster_results['Cluster Name'][cluster_results['Cluster']==0] = \\\n",
    "                'Average and Average'\n",
    "cluster_results['Cluster Name'][cluster_results['Cluster']==1] = \\\n",
    "                'Average and Strong'\n",
    "cluster_results['Cluster Name'][cluster_results['Cluster']==2] = \\\n",
    "                'Average and Weak'\n",
    "cluster_results['Cluster Name'][cluster_results['Cluster']==3] = \\\n",
    "                'Heavy and Strong'\n",
    "cluster_results['Cluster Name'][cluster_results['Cluster']==4] = \\\n",
    "                'Heavy and Weak'\n",
    "\n",
    "powerlift = powerlift.reset_index().drop('index', axis=1)\n",
    "powerlift['Cluster Name'] = cluster_results['Cluster Name']\n",
    "powerlift.info()\n",
    "powerlift.head()"
   ]
  },
  {
   "cell_type": "code",
   "execution_count": null,
   "metadata": {},
   "outputs": [],
   "source": []
  }
 ],
 "metadata": {
  "kernelspec": {
   "display_name": "Python 3",
   "language": "python",
   "name": "python3"
  },
  "language_info": {
   "codemirror_mode": {
    "name": "ipython",
    "version": 3
   },
   "file_extension": ".py",
   "mimetype": "text/x-python",
   "name": "python",
   "nbconvert_exporter": "python",
   "pygments_lexer": "ipython3",
   "version": "3.7.1"
  }
 },
 "nbformat": 4,
 "nbformat_minor": 2
}
